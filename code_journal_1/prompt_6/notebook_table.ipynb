{
 "cells": [
  {
   "cell_type": "code",
   "execution_count": 4,
   "id": "02aacc88-ac6e-4bd1-951d-82bd63289704",
   "metadata": {},
   "outputs": [],
   "source": [
    "import numpy as np\n",
    "import math as math\n",
    "from tabulate import tabulate"
   ]
  },
  {
   "cell_type": "markdown",
   "id": "50e2bc45-f311-4bbe-99ca-06712789c47a",
   "metadata": {},
   "source": [
    "Takes x as an input and output's its sine value using the numpy sine function."
   ]
  },
  {
   "cell_type": "code",
   "execution_count": null,
   "id": "68eb03f9-a758-4c03-8ef5-6d5e4413dea4",
   "metadata": {},
   "outputs": [],
   "source": [
    "def sin(x):\n",
    "    return np.sin(x)"
   ]
  },
  {
   "cell_type": "markdown",
   "id": "91674d55-c41f-474f-8aca-dad4918e94b7",
   "metadata": {},
   "source": [
    "Takes x as an input and output's its cosine value using the numpy cosine function."
   ]
  },
  {
   "cell_type": "code",
   "execution_count": null,
   "id": "34c01984-f6f7-443d-bedc-08346426fce1",
   "metadata": {},
   "outputs": [],
   "source": [
    "def cos(x):\n",
    "    return np.cos(x)"
   ]
  },
  {
   "cell_type": "markdown",
   "id": "4858cd53-791f-4610-adb3-1d1e735b99c9",
   "metadata": {},
   "source": [
    "Uses numpy to create an array of x values ranging from 0 to 2pi. Then uses the sinx and cosx functions defined above to find the relative values for every x value in this established range. Finally, creates a tabulate table based on this range of tuples."
   ]
  },
  {
   "cell_type": "code",
   "execution_count": null,
   "id": "b42e1e3b-083a-4cf9-9877-afd6fdd22f14",
   "metadata": {},
   "outputs": [],
   "source": [
    "x = np.linspace(0, 2 * math.pi, 1000)\n",
    "sinx = sin(x)\n",
    "cosx = cos(x)\n",
    "\n",
    "table_data = [(a, b, c) for a, b, c in zip(x, sinx, cosx)]\n",
    "\n",
    "table_headers = [\"x\", \"sin(x)\", \"cos(x)\"]\n",
    "table = tabulate(table_data, tablefmt=\"grid\", headers=table_headers, floatfmt=\".3f\")"
   ]
  },
  {
   "cell_type": "markdown",
   "id": "76db6c96-a9ce-461d-bcd9-466b3ac0d95b",
   "metadata": {},
   "source": [
    "In order to find the first 10 values, I used a for loop to iterate through x, sinx and cosx. Using i as an iteration marker, I iterated through the arrays 10 times before breaking the loop. Finally, I created and printed a new tabulate table using these values."
   ]
  },
  {
   "cell_type": "code",
   "execution_count": 20,
   "id": "6b71a6b3-d517-4ccb-a0b6-ed45820a7d47",
   "metadata": {},
   "outputs": [
    {
     "name": "stdout",
     "output_type": "stream",
     "text": [
      "+-------+----------+----------+\n",
      "|     x |   sin(x) |   cos(x) |\n",
      "+=======+==========+==========+\n",
      "| 0.000 |    0.000 |    1.000 |\n",
      "+-------+----------+----------+\n",
      "| 0.006 |    0.006 |    1.000 |\n",
      "+-------+----------+----------+\n",
      "| 0.013 |    0.013 |    1.000 |\n",
      "+-------+----------+----------+\n",
      "| 0.019 |    0.019 |    1.000 |\n",
      "+-------+----------+----------+\n",
      "| 0.025 |    0.025 |    1.000 |\n",
      "+-------+----------+----------+\n",
      "| 0.031 |    0.031 |    1.000 |\n",
      "+-------+----------+----------+\n",
      "| 0.038 |    0.038 |    0.999 |\n",
      "+-------+----------+----------+\n",
      "| 0.044 |    0.044 |    0.999 |\n",
      "+-------+----------+----------+\n",
      "| 0.050 |    0.050 |    0.999 |\n",
      "+-------+----------+----------+\n",
      "| 0.057 |    0.057 |    0.998 |\n",
      "+-------+----------+----------+\n"
     ]
    }
   ],
   "source": [
    "new_table_data = list()\n",
    "i = 0\n",
    "for (a, b, c) in zip(x, sinx, cosx):\n",
    "    i += 1\n",
    "    if i > 10:\n",
    "        break\n",
    "    new_table_data.append((a, b, c))\n",
    "    \n",
    "new_table = tabulate(new_table_data, tablefmt=\"grid\", headers=table_headers, floatfmt=\".3f\")\n",
    "print(new_table)"
   ]
  }
 ],
 "metadata": {
  "kernelspec": {
   "display_name": "Python 3",
   "language": "python",
   "name": "python3"
  },
  "language_info": {
   "codemirror_mode": {
    "name": "ipython",
    "version": 3
   },
   "file_extension": ".py",
   "mimetype": "text/x-python",
   "name": "python",
   "nbconvert_exporter": "python",
   "pygments_lexer": "ipython3",
   "version": "3.12.6"
  }
 },
 "nbformat": 4,
 "nbformat_minor": 5
}
